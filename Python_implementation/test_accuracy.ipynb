{
 "cells": [
  {
   "cell_type": "code",
   "execution_count": null,
   "metadata": {},
   "outputs": [],
   "source": [
    "# Melinda Kleczynski\n",
    "# Data from Christina Bergonzo \n",
    "\n",
    "# Finalized March 13, 2025 \n",
    "\n",
    "# Classification test accuracy \n",
    "# Three possible types of topological summaries: \n",
    "    # GCCD Matrices\n",
    "    # Gaussian Betti Curves\n",
    "    # Concatenated Normalized 0D, 1D, 2D Gaussian Betti Curves"
   ]
  },
  {
   "cell_type": "code",
   "execution_count": null,
   "metadata": {},
   "outputs": [],
   "source": [
    "# Choose starting frame and type of topological summary \n",
    "\n",
    "start_frame = 200  # 200, 350, or 500 \n",
    "summary_type = 'gccd'  # 'gccd' or 'betti' or 'betti012' "
   ]
  },
  {
   "cell_type": "code",
   "execution_count": null,
   "metadata": {},
   "outputs": [],
   "source": [
    "import numpy as np \n",
    "import pandas as pd \n",
    "from sklearn import neighbors "
   ]
  },
  {
   "cell_type": "code",
   "execution_count": null,
   "metadata": {},
   "outputs": [],
   "source": [
    "def get_gccd_fpath(class_label, trajectory, sigma_exp, frame):\n",
    "\n",
    "    folder_path = 'gccds\\\\' + class_label + '\\\\traj' + str(trajectory) + '\\\\'\n",
    "    return  folder_path + class_label + '_traj' + str(trajectory) + '_frame' + str(frame) + '_sigmaexp' + str(sigma_exp) + '_gccd.csv'\n",
    "\n",
    "def get_betti012_fpath(class_label, trajectory, sigma_exp, frame):\n",
    "\n",
    "    folder_path = 'betti012s\\\\' + class_label + '\\\\traj' + str(trajectory) + '\\\\'\n",
    "    return  folder_path + class_label + '_traj' + str(trajectory) + '_frame' + str(frame) + '_sigmaexp' + str(sigma_exp) + '_betti012.csv'"
   ]
  },
  {
   "cell_type": "code",
   "execution_count": null,
   "metadata": {},
   "outputs": [],
   "source": [
    "class_labels = ['Fc_glycans', 'Fc_noglycans']\n",
    "trajectories = [0, 1, 2, 3]\n",
    "\n",
    "frames = [i for i in range(start_frame, 1000)] \n",
    "\n",
    "# possible hyperparameter values \n",
    "sigma_exponents = [s for s in range(1, 7)]\n",
    "k_vals = [15, 25, 35, 45]"
   ]
  },
  {
   "cell_type": "code",
   "execution_count": null,
   "metadata": {},
   "outputs": [],
   "source": [
    "# use any summary to get array size \n",
    "\n",
    "if summary_type in ['gccd', 'betti']:\n",
    "    ex_gccd = np.array(pd.read_csv(get_gccd_fpath(class_labels[0], trajectories[0], sigma_exponents[0], frames[0])))  \n",
    "    if summary_type == 'gccd':\n",
    "        summary_n_elmnts = np.shape(ex_gccd)[0]*np.shape(ex_gccd)[1]\n",
    "    elif summary_type == 'betti':\n",
    "        summary_n_elmnts = np.shape(ex_gccd)[0]\n",
    "\n",
    "elif summary_type == 'betti012':\n",
    "    ex_betti012 = np.array(pd.read_csv(get_betti012_fpath(class_labels[0], trajectories[0], sigma_exponents[0], frames[0]))['0'])\n",
    "    summary_n_elmnts = len(ex_betti012) "
   ]
  },
  {
   "cell_type": "code",
   "execution_count": null,
   "metadata": {},
   "outputs": [],
   "source": [
    "n_summaries = len(class_labels)*len(trajectories)*len(frames)\n",
    "n_sigmas = len(sigma_exponents)"
   ]
  },
  {
   "cell_type": "code",
   "execution_count": null,
   "metadata": {},
   "outputs": [],
   "source": [
    "# set up dataframes \n",
    "\n",
    "summary_dfs = n_sigmas*[pd.DataFrame()]\n",
    "\n",
    "for s_iter in range(n_sigmas):\n",
    "\n",
    "    summary_data = np.zeros((n_summaries, summary_n_elmnts))\n",
    "\n",
    "    summary_class_labels = n_summaries*['']\n",
    "    summary_trajectories = np.zeros(n_summaries, int)\n",
    "    summary_frames = np.zeros(n_summaries, int)\n",
    "\n",
    "    summary_iter = 0\n",
    "\n",
    "    for class_label in class_labels:\n",
    "        for trajectory in trajectories:\n",
    "            for frame in frames:\n",
    "\n",
    "                if summary_type in ['gccd', 'betti']:\n",
    "                    gccd_matrix = np.array(pd.read_csv(get_gccd_fpath(class_label, trajectory, sigma_exponents[s_iter], frame)))\n",
    "                    if summary_type == 'gccd':\n",
    "                        summary_data[summary_iter, :] = gccd_matrix.flatten()\n",
    "                    elif summary_type == 'betti':\n",
    "                        summary_data[summary_iter, :] = np.sum(gccd_matrix, axis = 1)\n",
    "                elif summary_type == 'betti012':\n",
    "                    betti012_vec = np.array(pd.read_csv(get_betti012_fpath(class_label, trajectory, sigma_exponents[s_iter], frame))['0'])\n",
    "                    summary_data[summary_iter, :] = betti012_vec\n",
    "\n",
    "                summary_class_labels[summary_iter] = class_label\n",
    "                summary_trajectories[summary_iter] = trajectory\n",
    "                summary_frames[summary_iter] = frame\n",
    "\n",
    "                summary_iter += 1\n",
    "\n",
    "    metadata_df = pd.DataFrame({'class_label': summary_class_labels, 'trajectory': summary_trajectories, 'frame': summary_frames})\n",
    "    summary_df = pd.concat([pd.DataFrame(summary_data), metadata_df], axis = 1)\n",
    "\n",
    "    summary_dfs[s_iter] = summary_df"
   ]
  },
  {
   "cell_type": "code",
   "execution_count": null,
   "metadata": {},
   "outputs": [],
   "source": [
    "# read in hyperparameter choices \n",
    "hyper_df = pd.read_csv('hyperparams\\\\' + summary_type + '_hyperparams_start_frame_' + str(start_frame) + '.csv')[['glyc_test_trajs', 'aglyc_test_trajs', 'sigma_exp', 'k']] "
   ]
  },
  {
   "cell_type": "code",
   "execution_count": null,
   "metadata": {},
   "outputs": [],
   "source": [
    "test_mean_accs = np.zeros(len(hyper_df))\n",
    "\n",
    "for row_iter in range(len(hyper_df)):\n",
    "\n",
    "    current_row = hyper_df.iloc[row_iter]\n",
    "\n",
    "    glyc_test_traj = current_row['glyc_test_trajs']\n",
    "    aglyc_test_traj = current_row['aglyc_test_trajs']\n",
    "    best_sigma_exp = current_row['sigma_exp']\n",
    "    best_k = current_row['k']\n",
    "\n",
    "    # training trajectories\n",
    "    glyc_train_trajs = [traj for traj in trajectories if traj != glyc_test_traj]\n",
    "    aglyc_train_trajs = [traj for traj in trajectories if traj != aglyc_test_traj]\n",
    "\n",
    "    # best hyperparameters \n",
    "    best_sigma_exp_index = np.where(sigma_exponents == best_sigma_exp)[0][0]\n",
    "\n",
    "    # dataframe for best sigma hyperparameter\n",
    "    summary_df = summary_dfs[best_sigma_exp_index]\n",
    "    glyc_summary_df = summary_df[summary_df.class_label == 'Fc_glycans']\n",
    "    aglyc_summary_df = summary_df[summary_df.class_label == 'Fc_noglycans']\n",
    "\n",
    "    # training data \n",
    "    glyc_train_df = glyc_summary_df[[traj in glyc_train_trajs for traj in glyc_summary_df.trajectory]]\n",
    "    aglyc_train_df = aglyc_summary_df[[traj in aglyc_train_trajs for traj in aglyc_summary_df.trajectory]]\n",
    "    train_df = pd.concat([glyc_train_df, aglyc_train_df])\n",
    "    X_train = train_df[[j for j in range(summary_n_elmnts)]]\n",
    "    y_train = train_df.class_label\n",
    "\n",
    "    # fit classifier \n",
    "    knn_classifier = neighbors.KNeighborsClassifier(n_neighbors = best_k, p = 2).fit(X_train, y_train)\n",
    "\n",
    "    # testing data \n",
    "    glyc_test_df = glyc_summary_df[glyc_summary_df.trajectory == glyc_test_traj] \n",
    "    aglyc_test_df = aglyc_summary_df[aglyc_summary_df.trajectory == aglyc_test_traj] \n",
    "    test_df = pd.concat([glyc_test_df, aglyc_test_df]) \n",
    "    X_test = test_df[[j for j in range(summary_n_elmnts)]]\n",
    "    y_test = test_df.class_label \n",
    "    test_mean_accs[row_iter] = knn_classifier.score(X_test, y_test)\n",
    "\n",
    "test_df = pd.concat([hyper_df[['glyc_test_trajs', 'aglyc_test_trajs']], pd.DataFrame({'mean_test_accuracy': test_mean_accs})], axis = 1)\n",
    "test_df.to_csv('test_results\\\\test_results_' + summary_type + '_start_frame_' + str(start_frame) + '.csv')"
   ]
  },
  {
   "cell_type": "code",
   "execution_count": null,
   "metadata": {},
   "outputs": [],
   "source": []
  }
 ],
 "metadata": {
  "kernelspec": {
   "display_name": ".venv",
   "language": "python",
   "name": "python3"
  },
  "language_info": {
   "codemirror_mode": {
    "name": "ipython",
    "version": 3
   },
   "file_extension": ".py",
   "mimetype": "text/x-python",
   "name": "python",
   "nbconvert_exporter": "python",
   "pygments_lexer": "ipython3",
   "version": "3.13.2"
  }
 },
 "nbformat": 4,
 "nbformat_minor": 2
}
