{
 "cells": [
  {
   "cell_type": "code",
   "execution_count": 9,
   "metadata": {},
   "outputs": [],
   "source": [
    "# Code by Melinda Kleczynski\n",
    "# Structure from https://www.rcsb.org/structure/2HII (PDB format) \n",
    "\n",
    "# Finalized March 11, 2025 \n",
    "\n",
    "# GCCD example on a different protein type "
   ]
  },
  {
   "cell_type": "code",
   "execution_count": 1,
   "metadata": {},
   "outputs": [],
   "source": [
    "pdb_name = '2hii'\n",
    "\n",
    "assembly = 1\n",
    "chain_ids = ['A', 'B', 'C']\n",
    "\n",
    "# assembly = 2\n",
    "# chain_ids = ['X', 'Y', 'Z']"
   ]
  },
  {
   "cell_type": "code",
   "execution_count": 2,
   "metadata": {},
   "outputs": [],
   "source": [
    "import numpy as np \n",
    "import pandas as pd \n",
    "\n",
    "from gccd import gccd"
   ]
  },
  {
   "cell_type": "code",
   "execution_count": 3,
   "metadata": {},
   "outputs": [],
   "source": [
    "f = open(pdb_name + '.pdb', 'r')\n",
    "file_lines = f.readlines() \n",
    "f.close()"
   ]
  },
  {
   "cell_type": "code",
   "execution_count": 4,
   "metadata": {},
   "outputs": [],
   "source": [
    "atom_lines = [line for line in file_lines if line[0:6] == 'ATOM  ']\n",
    "carbonalpha_lines = [line for line in atom_lines if line[12:16].replace(' ', '') == 'CA']\n",
    "lines = [line for line in carbonalpha_lines if line[21] in chain_ids]"
   ]
  },
  {
   "cell_type": "code",
   "execution_count": 5,
   "metadata": {},
   "outputs": [],
   "source": [
    "assembly_df = pd.DataFrame({'x': np.array([float(line[30:38].replace(' ', '')) for line in lines]),\n",
    "                            'y': np.array([float(line[38:46].replace(' ', '')) for line in lines]),\n",
    "                            'z': np.array([float(line[46:54].replace(' ', '')) for line in lines]),\n",
    "                            'chain': np.array([line[21] for line in lines]),\n",
    "                            'residue': [int(line[22:26].replace(' ', '')) for line in lines]})"
   ]
  },
  {
   "cell_type": "code",
   "execution_count": 6,
   "metadata": {},
   "outputs": [],
   "source": [
    "# save in formatted csv to be read by gccd function \n",
    "assembly_df.to_csv(pdb_name + '_assembly' + str(assembly) + '.csv', index = False)"
   ]
  },
  {
   "cell_type": "code",
   "execution_count": 7,
   "metadata": {},
   "outputs": [],
   "source": [
    "first_eps = 1 \n",
    "last_eps = 50 \n",
    "epsilons = np.linspace(first_eps, last_eps, 1+10*(last_eps-first_eps))\n",
    "sigmas = [(1/2)**4]"
   ]
  },
  {
   "cell_type": "code",
   "execution_count": 8,
   "metadata": {},
   "outputs": [],
   "source": [
    "gccd_matrix = gccd(pdb_name + '_assembly' + str(assembly) + '.csv', epsilons, sigmas)[0]"
   ]
  },
  {
   "cell_type": "code",
   "execution_count": null,
   "metadata": {},
   "outputs": [],
   "source": []
  }
 ],
 "metadata": {
  "kernelspec": {
   "display_name": ".venv",
   "language": "python",
   "name": "python3"
  },
  "language_info": {
   "codemirror_mode": {
    "name": "ipython",
    "version": 3
   },
   "file_extension": ".py",
   "mimetype": "text/x-python",
   "name": "python",
   "nbconvert_exporter": "python",
   "pygments_lexer": "ipython3",
   "version": "3.13.2"
  }
 },
 "nbformat": 4,
 "nbformat_minor": 2
}
