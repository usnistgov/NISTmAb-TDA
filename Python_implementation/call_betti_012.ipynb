{
 "cells": [
  {
   "cell_type": "code",
   "execution_count": null,
   "metadata": {},
   "outputs": [],
   "source": [
    "# Code by Melinda Kleczynski \n",
    "# Data from Christina Bergonzo \n",
    "\n",
    "# Finalized March 12, 2025\n",
    "\n",
    "# Read a csv file with 3d spatial coordinates \n",
    "# Return concatenated 0d, 1d, and 2d normalized Gaussian Betti curves \n",
    "\n",
    "# Change frame_data_fpath as needed based on file structure of input data \n",
    "# Change betti012_fpath as needed based on desired file structure of output data "
   ]
  },
  {
   "cell_type": "code",
   "execution_count": null,
   "metadata": {},
   "outputs": [],
   "source": [
    "import numpy as np \n",
    "import oat_python as oat\n",
    "import pandas as pd \n",
    "\n",
    "from gccd import smooth_betti "
   ]
  },
  {
   "cell_type": "code",
   "execution_count": null,
   "metadata": {},
   "outputs": [],
   "source": [
    "# parameter selection \n",
    "\n",
    "first_eps = 1 \n",
    "last_eps = 30 \n",
    "epsilons = np.linspace(first_eps, last_eps, 1+10*(last_eps-first_eps))\n",
    "\n",
    "sigma_exponents = [s for s in range(1, 7)]"
   ]
  },
  {
   "cell_type": "code",
   "execution_count": null,
   "metadata": {},
   "outputs": [],
   "source": [
    "def smooth_normalized_curve(eps_vec, ph_df, k_012, sigma_float):\n",
    "\n",
    "    ph_k = ph_df[ph_df.dimension == k_012]\n",
    "    births_k = np.array(ph_k.birth)\n",
    "    deaths_k = np.array(ph_k.death)\n",
    "    nbars_k = len(births_k)\n",
    "\n",
    "    smooth_betti_k = [smooth_betti(epsilon, births_k, deaths_k, sigma_float) for epsilon in eps_vec]\n",
    "    return np.array(smooth_betti_k)/nbars_k "
   ]
  },
  {
   "cell_type": "code",
   "execution_count": null,
   "metadata": {},
   "outputs": [],
   "source": [
    "dataset_name = 'Fc_glycans'  # 'Fc_glycans' or 'Fc_noglycans' \n",
    "trajectory_num = 0  # 0, 1, 2, or 3  \n",
    "\n",
    "for frame_num in range(200, 1000):  \n",
    "\n",
    "    # get coordinate data\n",
    "    frame_data_fpath = ('formatted_data\\\\' + dataset_name + \n",
    "                        '\\\\traj' + str(trajectory_num) + \n",
    "                        '\\\\' + dataset_name + \n",
    "                        '_traj' + str(trajectory_num) + \n",
    "                        '_frame' + str(frame_num) + '.csv')\n",
    "    frame_data = pd.read_csv(frame_data_fpath)\n",
    "    atom_coords = np.array(frame_data[['x', 'y', 'z']])\n",
    "\n",
    "    # perform TDA \n",
    "    maxrad = oat.dissimilarity.enclosing_from_cloud(atom_coords) + 0.001 \n",
    "    dissimilairty_matrix = oat.dissimilarity.matrix_from_cloud(cloud = atom_coords, \n",
    "                                                               dissimilarity_max = maxrad)\n",
    "    boundary = oat.rust.FactoredBoundaryMatrixVr(dissimilarity_matrix = dissimilairty_matrix, \n",
    "                                                 homology_dimension_max = 2)\n",
    "    ph = boundary.homology(return_cycle_representatives = False, return_bounding_chains = False)\n",
    "\n",
    "    # create and save curves \n",
    "    for sigma_exp in sigma_exponents:\n",
    "        sigma = (1/2)**sigma_exp\n",
    "        concat_curves = np.hstack([smooth_normalized_curve(epsilons, ph, k, sigma) for k in range(3)])\n",
    "        betti012_fpath = ('betti012s\\\\' + dataset_name + '\\\\traj' + str(trajectory_num) + \n",
    "                       '\\\\' + dataset_name + '_traj' + str(trajectory_num) + \n",
    "                       '_frame' + str(frame_num) + '_sigmaexp' + str(sigma_exp) + '_betti012.csv')\n",
    "        pd.DataFrame(concat_curves).to_csv(betti012_fpath, index = False)"
   ]
  },
  {
   "cell_type": "code",
   "execution_count": null,
   "metadata": {},
   "outputs": [],
   "source": []
  }
 ],
 "metadata": {
  "kernelspec": {
   "display_name": ".venv",
   "language": "python",
   "name": "python3"
  },
  "language_info": {
   "codemirror_mode": {
    "name": "ipython",
    "version": 3
   },
   "file_extension": ".py",
   "mimetype": "text/x-python",
   "name": "python",
   "nbconvert_exporter": "python",
   "pygments_lexer": "ipython3",
   "version": "3.13.2"
  }
 },
 "nbformat": 4,
 "nbformat_minor": 2
}
