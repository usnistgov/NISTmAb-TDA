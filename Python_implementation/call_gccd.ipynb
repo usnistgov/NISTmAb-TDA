{
 "cells": [
  {
   "cell_type": "code",
   "execution_count": null,
   "metadata": {},
   "outputs": [],
   "source": [
    "# Code by Melinda Kleczynski \n",
    "# Data from Christina Bergonzo \n",
    "\n",
    "# Finalized February 28, 2025 \n",
    "\n",
    "# Read formatted data and save GCCD matrices\n",
    "# Change frame_data_fpath as needed based on file structure of input data \n",
    "# Change file path in to_csv as needed based on desired file structure of output data "
   ]
  },
  {
   "cell_type": "code",
   "execution_count": 2,
   "metadata": {},
   "outputs": [],
   "source": [
    "import numpy as np \n",
    "import pandas as pd \n",
    "\n",
    "from gccd import gccd"
   ]
  },
  {
   "cell_type": "code",
   "execution_count": 3,
   "metadata": {},
   "outputs": [],
   "source": [
    "# parameter selection \n",
    "\n",
    "first_eps = 1 \n",
    "last_eps = 30 \n",
    "epsilons = np.linspace(first_eps, last_eps, 1+10*(last_eps-first_eps))\n",
    "\n",
    "sigma_exponents = [s for s in range(1, 7)]\n",
    "sigmas = [(1/2)**s_exp for s_exp in sigma_exponents]"
   ]
  },
  {
   "cell_type": "code",
   "execution_count": null,
   "metadata": {},
   "outputs": [],
   "source": [
    "dataset_name = 'Fc_glycans'  # 'Fc_glycans' or 'Fc_noglycans' \n",
    "trajectory_num = 0  # 0, 1, 2, or 3  \n",
    "\n",
    "# to run whole trajectory, change to range(200, 1000)\n",
    "for frame_num in range(200, 203):  # 200 ≤ frame_num < 1000\n",
    "\n",
    "    frame_data_fpath = 'formatted_data\\\\' + dataset_name + '\\\\traj' + str(trajectory_num) + '\\\\' + dataset_name + '_traj' + str(trajectory_num) + '_frame' + str(frame_num) + '.csv'\n",
    "\n",
    "    gccds = np.round(gccd(frame_data_fpath, epsilons, sigmas), decimals = 10)\n",
    "\n",
    "    for s in range(len(sigmas)):\n",
    "        pd.DataFrame(gccds[s]).to_csv('gccds\\\\' + dataset_name + '\\\\traj' + str(trajectory_num) + '\\\\' \n",
    "                                    + dataset_name + '_traj' + str(trajectory_num) + '_frame' + str(frame_num) \n",
    "                                    + '_sigmaexp' + str(sigma_exponents[s]) + '_gccd.csv',\n",
    "                                    index = False) "
   ]
  },
  {
   "cell_type": "code",
   "execution_count": null,
   "metadata": {},
   "outputs": [],
   "source": []
  }
 ],
 "metadata": {
  "kernelspec": {
   "display_name": ".venv",
   "language": "python",
   "name": "python3"
  },
  "language_info": {
   "codemirror_mode": {
    "name": "ipython",
    "version": 3
   },
   "file_extension": ".py",
   "mimetype": "text/x-python",
   "name": "python",
   "nbconvert_exporter": "python",
   "pygments_lexer": "ipython3",
   "version": "3.13.2"
  }
 },
 "nbformat": 4,
 "nbformat_minor": 2
}
