{
 "cells": [
  {
   "cell_type": "code",
   "execution_count": null,
   "metadata": {},
   "outputs": [],
   "source": [
    "# Code by Melinda Kleczynski \n",
    "# Data from Christina Bergonzo \n",
    "\n",
    "# Finalized March 2, 2025 \n",
    "\n",
    "# Time the GCCD function for a random selection of frames"
   ]
  },
  {
   "cell_type": "code",
   "execution_count": null,
   "metadata": {},
   "outputs": [],
   "source": [
    "import numpy as np \n",
    "import pandas as pd \n",
    "import random\n",
    "\n",
    "from gccd import gccd"
   ]
  },
  {
   "cell_type": "code",
   "execution_count": null,
   "metadata": {},
   "outputs": [],
   "source": [
    "# parameter selection \n",
    "\n",
    "first_eps = 1 \n",
    "last_eps = 30 \n",
    "epsilons = np.linspace(first_eps, last_eps, 1+10*(last_eps-first_eps))\n",
    "\n",
    "sigma_exponents = [s for s in range(1, 7)]\n",
    "sigmas = [(1/2)**s_exp for s_exp in sigma_exponents]"
   ]
  },
  {
   "cell_type": "code",
   "execution_count": null,
   "metadata": {},
   "outputs": [],
   "source": [
    "# choose a random subset of datasets \n",
    "# will use the same selection for timing Julia function "
   ]
  },
  {
   "cell_type": "code",
   "execution_count": null,
   "metadata": {},
   "outputs": [],
   "source": [
    "datasets = ['Fc_glycans', 'Fc_noglycans'] \n",
    "trajectories = [0, 1, 2, 3]\n",
    "frames = [i for i in range(200, 1000)]\n",
    "\n",
    "all_choices = [[d, t, f] for d in datasets for t in trajectories for f in frames]\n",
    "\n",
    "# random subset of datasets\n",
    "k = 20\n",
    "random.seed(0)\n",
    "subsamples = random.sample(all_choices, k)"
   ]
  },
  {
   "cell_type": "code",
   "execution_count": null,
   "metadata": {},
   "outputs": [],
   "source": [
    "# run once before recording times \n",
    "\n",
    "dataset, trajectory, frame = subsamples[0]\n",
    "\n",
    "frame_data_folder = 'formatted_data\\\\' + dataset + '\\\\traj' + str(trajectory) + '\\\\'\n",
    "frame_data_fpath = frame_data_folder + dataset + '_traj' + str(trajectory) + '_frame' + str(frame) + '.csv'\n",
    "\n",
    "gccd(frame_data_fpath, epsilons, sigmas);"
   ]
  },
  {
   "cell_type": "code",
   "execution_count": null,
   "metadata": {},
   "outputs": [],
   "source": [
    "run_times = np.zeros((k, 7))\n",
    "\n",
    "for i in range(k):\n",
    "\n",
    "    dataset, trajectory, frame = subsamples[i]\n",
    "\n",
    "    frame_data_folder = 'formatted_data\\\\' + dataset + '\\\\traj' + str(trajectory) + '\\\\'\n",
    "    frame_data_fpath = frame_data_folder + dataset + '_traj' + str(trajectory) + '_frame' + str(frame) + '.csv'\n",
    "\n",
    "    current_run_times = %timeit -o gccd(frame_data_fpath, epsilons, sigmas)\n",
    "    run_times[i, :] = current_run_times.timings"
   ]
  },
  {
   "cell_type": "code",
   "execution_count": null,
   "metadata": {},
   "outputs": [],
   "source": [
    "run_time_results = pd.DataFrame(run_times)\n",
    "run_time_results.columns = ['Run ' + str(j) for j in range(7)]\n",
    "run_time_results.insert(0, 'Dataset', [subsample[0] for subsample in subsamples])\n",
    "run_time_results.insert(1, 'Trajectory', [subsample[1] for subsample in subsamples])\n",
    "run_time_results.insert(2, 'Frame', [subsample[2] for subsample in subsamples])\n",
    "run_time_results"
   ]
  },
  {
   "cell_type": "code",
   "execution_count": null,
   "metadata": {},
   "outputs": [],
   "source": [
    "run_time_results.to_csv('python_timing.csv')"
   ]
  },
  {
   "cell_type": "code",
   "execution_count": null,
   "metadata": {},
   "outputs": [],
   "source": []
  }
 ],
 "metadata": {
  "kernelspec": {
   "display_name": ".venv",
   "language": "python",
   "name": "python3"
  },
  "language_info": {
   "codemirror_mode": {
    "name": "ipython",
    "version": 3
   },
   "file_extension": ".py",
   "mimetype": "text/x-python",
   "name": "python",
   "nbconvert_exporter": "python",
   "pygments_lexer": "ipython3",
   "version": "3.13.2"
  }
 },
 "nbformat": 4,
 "nbformat_minor": 2
}
