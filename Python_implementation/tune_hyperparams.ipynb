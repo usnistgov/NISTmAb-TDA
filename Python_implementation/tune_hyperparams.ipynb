{
 "cells": [
  {
   "cell_type": "code",
   "execution_count": 1,
   "metadata": {},
   "outputs": [],
   "source": [
    "# Melinda Kleczynski\n",
    "# Data from Christina Bergonzo \n",
    "\n",
    "# Finalized March 13, 2025 \n",
    "\n",
    "# Hyperparameter tuning for classification \n",
    "# Three possible types of topological summaries: \n",
    "    # GCCD Matrices\n",
    "    # Gaussian Betti Curves\n",
    "    # Concatenated Normalized 0D, 1D, 2D Gaussian Betti Curves"
   ]
  },
  {
   "cell_type": "code",
   "execution_count": null,
   "metadata": {},
   "outputs": [],
   "source": [
    "# Choose starting frame and type of topological summary \n",
    "\n",
    "start_frame = 200  # 200, 350, or 500 \n",
    "summary_type = 'gccd'  # 'gccd' or 'betti or betti012' "
   ]
  },
  {
   "cell_type": "code",
   "execution_count": 3,
   "metadata": {},
   "outputs": [],
   "source": [
    "import numpy as np \n",
    "import pandas as pd \n",
    "from sklearn import neighbors "
   ]
  },
  {
   "cell_type": "code",
   "execution_count": 4,
   "metadata": {},
   "outputs": [],
   "source": [
    "def get_gccd_fpath(class_label, trajectory, sigma_exp, frame):\n",
    "\n",
    "    folder_path = 'gccds\\\\' + class_label + '\\\\traj' + str(trajectory) + '\\\\'\n",
    "    return  folder_path + class_label + '_traj' + str(trajectory) + '_frame' + str(frame) + '_sigmaexp' + str(sigma_exp) + '_gccd.csv'\n",
    "\n",
    "def get_betti012_fpath(class_label, trajectory, sigma_exp, frame):\n",
    "\n",
    "    folder_path = 'betti012s\\\\' + class_label + '\\\\traj' + str(trajectory) + '\\\\'\n",
    "    return  folder_path + class_label + '_traj' + str(trajectory) + '_frame' + str(frame) + '_sigmaexp' + str(sigma_exp) + '_betti012.csv'"
   ]
  },
  {
   "cell_type": "code",
   "execution_count": 5,
   "metadata": {},
   "outputs": [],
   "source": [
    "class_labels = ['Fc_glycans', 'Fc_noglycans']\n",
    "trajectories = [0, 1, 2, 3]\n",
    "\n",
    "frames = [i for i in range(start_frame, 1000)] \n",
    "\n",
    "first_eps = 1 \n",
    "last_eps = 30 \n",
    "epsilons = np.linspace(first_eps, last_eps, 1+10*(last_eps-first_eps))\n",
    "\n",
    "# hyperparameters \n",
    "sigma_exponents = [s for s in range(1, 7)]\n",
    "k_vals = [15, 25, 35, 45]"
   ]
  },
  {
   "cell_type": "code",
   "execution_count": 6,
   "metadata": {},
   "outputs": [],
   "source": [
    "# use any summary to get array size \n",
    "\n",
    "if summary_type in ['gccd', 'betti']:\n",
    "    ex_gccd = np.array(pd.read_csv(get_gccd_fpath(class_labels[0], trajectories[0], sigma_exponents[0], frames[0])))  \n",
    "    if summary_type == 'gccd':\n",
    "        summary_n_elmnts = np.shape(ex_gccd)[0]*np.shape(ex_gccd)[1]\n",
    "    elif summary_type == 'betti':\n",
    "        summary_n_elmnts = np.shape(ex_gccd)[0]\n",
    "\n",
    "elif summary_type == 'betti012':\n",
    "    ex_betti012 = np.array(pd.read_csv(get_betti012_fpath(class_labels[0], trajectories[0], sigma_exponents[0], frames[0]))['0'])\n",
    "    summary_n_elmnts = len(ex_betti012) "
   ]
  },
  {
   "cell_type": "code",
   "execution_count": 7,
   "metadata": {},
   "outputs": [],
   "source": [
    "n_summaries = len(class_labels)*len(trajectories)*len(frames)\n",
    "n_sigmas = len(sigma_exponents)"
   ]
  },
  {
   "cell_type": "code",
   "execution_count": 8,
   "metadata": {},
   "outputs": [],
   "source": [
    "# set up dataframes \n",
    "\n",
    "summary_dfs = n_sigmas*[pd.DataFrame()]\n",
    "\n",
    "for s_iter in range(n_sigmas):\n",
    "\n",
    "    summary_data = np.zeros((n_summaries, summary_n_elmnts))\n",
    "\n",
    "    summary_class_labels = n_summaries*['']\n",
    "    summary_trajectories = np.zeros(n_summaries, int)\n",
    "    summary_frames = np.zeros(n_summaries, int)\n",
    "\n",
    "    summary_iter = 0\n",
    "\n",
    "    for class_label in class_labels:\n",
    "        for trajectory in trajectories:\n",
    "            for frame in frames:\n",
    "\n",
    "                if summary_type in ['gccd', 'betti']:\n",
    "                    gccd_matrix = np.array(pd.read_csv(get_gccd_fpath(class_label, trajectory, sigma_exponents[s_iter], frame)))\n",
    "                    if summary_type == 'gccd':\n",
    "                        summary_data[summary_iter, :] = gccd_matrix.flatten()\n",
    "                    elif summary_type == 'betti':\n",
    "                        summary_data[summary_iter, :] = np.sum(gccd_matrix, axis = 1)\n",
    "                elif summary_type == 'betti012':\n",
    "                    betti012_vec = np.array(pd.read_csv(get_betti012_fpath(class_label, trajectory, sigma_exponents[s_iter], frame))['0'])\n",
    "                    summary_data[summary_iter, :] = betti012_vec\n",
    "\n",
    "                summary_class_labels[summary_iter] = class_label\n",
    "                summary_trajectories[summary_iter] = trajectory\n",
    "                summary_frames[summary_iter] = frame\n",
    "\n",
    "                summary_iter += 1\n",
    "\n",
    "    metadata_df = pd.DataFrame({'class_label': summary_class_labels, 'trajectory': summary_trajectories, 'frame': summary_frames})\n",
    "    summary_df = pd.concat([pd.DataFrame(summary_data), metadata_df], axis = 1)\n",
    "\n",
    "    summary_dfs[s_iter] = summary_df"
   ]
  },
  {
   "cell_type": "code",
   "execution_count": 9,
   "metadata": {},
   "outputs": [],
   "source": [
    "# hyperparameter tuning \n",
    "\n",
    "all_glyc_train_trajs = 16*[[]]\n",
    "all_aglyc_train_trajs = 16*[[]]\n",
    "all_glyc_test_trajs = np.zeros(16, int)\n",
    "all_aglyc_test_trajs = np.zeros(16, int)\n",
    "best_sigma_exps = np.zeros(16, int)\n",
    "best_ks = np.zeros(16, int)\n",
    "best_mean_accs = np.zeros(16)\n",
    "worst_mean_accs = np.zeros(16)\n",
    "\n",
    "hyper_iter = 0\n",
    "\n",
    "for glyc_test_traj in trajectories:\n",
    "    glyc_train_trajs = [traj for traj in trajectories if traj != glyc_test_traj]\n",
    "\n",
    "    for aglyc_test_traj in trajectories:\n",
    "        aglyc_train_trajs = [traj for traj in trajectories if traj != aglyc_test_traj]\n",
    "\n",
    "        cval_scores = np.zeros((n_sigmas, len(k_vals)))\n",
    "\n",
    "        for s_iter in range(n_sigmas):\n",
    "\n",
    "            summary_df = summary_dfs[s_iter]\n",
    "\n",
    "            glyc_summary_df = summary_df[summary_df.class_label == 'Fc_glycans']\n",
    "            aglyc_summary_df = summary_df[summary_df.class_label == 'Fc_noglycans']\n",
    "\n",
    "            glyc_tune = glyc_summary_df[[traj in glyc_train_trajs for traj in glyc_summary_df.trajectory]]\n",
    "            aglyc_tune = aglyc_summary_df[[traj in aglyc_train_trajs for traj in aglyc_summary_df.trajectory]]\n",
    "\n",
    "            for glyc_tune_traj in glyc_train_trajs:\n",
    "\n",
    "                glyc_tune_train = glyc_tune[glyc_tune.trajectory != glyc_tune_traj]\n",
    "                glyc_tune_test = glyc_tune[glyc_tune.trajectory == glyc_tune_traj]\n",
    "\n",
    "                for aglyc_tune_traj in aglyc_train_trajs:\n",
    "\n",
    "                    aglyc_tune_train = aglyc_tune[aglyc_tune.trajectory != aglyc_tune_traj]\n",
    "                    aglyc_tune_test = aglyc_tune[aglyc_tune.trajectory == aglyc_tune_traj]\n",
    "\n",
    "                    for k_iter in range(len(k_vals)):\n",
    "\n",
    "                        tune_train = pd.concat([glyc_tune_train, aglyc_tune_train])\n",
    "                        X_tune_train = tune_train[[j for j in range(summary_n_elmnts)]]\n",
    "                        y_tune_train = tune_train.class_label\n",
    "                        tune_classifier = neighbors.KNeighborsClassifier(n_neighbors = k_vals[k_iter], p = 2).fit(X_tune_train, y_tune_train) \n",
    "\n",
    "                        tune_test = pd.concat([glyc_tune_test, aglyc_tune_test])\n",
    "                        X_tune_test = tune_test[[j for j in range(summary_n_elmnts)]]\n",
    "                        y_tune_test = tune_test.class_label\n",
    "                        tune_score = tune_classifier.score(X_tune_test, y_tune_test) \n",
    "                        cval_scores[s_iter, k_iter] += tune_score\n",
    "\n",
    "        cval_scores/=9\n",
    "\n",
    "        best_param_indices = np.unravel_index(np.argmax(cval_scores), np.shape(cval_scores))\n",
    "\n",
    "        all_glyc_train_trajs[hyper_iter] = glyc_train_trajs\n",
    "        all_aglyc_train_trajs[hyper_iter] = aglyc_train_trajs\n",
    "        all_glyc_test_trajs[hyper_iter] = glyc_test_traj\n",
    "        all_aglyc_test_trajs[hyper_iter] = aglyc_test_traj\n",
    "        best_sigma_exps[hyper_iter] = sigma_exponents[best_param_indices[0]]\n",
    "        best_ks[hyper_iter] = k_vals[best_param_indices[1]]\n",
    "        best_mean_accs[hyper_iter] = np.max(cval_scores)\n",
    "        worst_mean_accs[hyper_iter] = np.min(cval_scores)\n",
    "        hyper_iter += 1\n",
    "\n",
    "tuning_df = pd.DataFrame({'glyc_train_trajs': all_glyc_train_trajs,\n",
    "                          'aglyc_train_trajs': all_aglyc_train_trajs,\n",
    "                          'glyc_test_trajs': all_glyc_test_trajs,\n",
    "                          'aglyc_test_trajs': all_aglyc_test_trajs,\n",
    "                          'sigma_exp': best_sigma_exps,\n",
    "                          'k': best_ks,\n",
    "                          'best_mean_acc': best_mean_accs,\n",
    "                          'worst_mean_acc': worst_mean_accs})"
   ]
  },
  {
   "cell_type": "code",
   "execution_count": 10,
   "metadata": {},
   "outputs": [],
   "source": [
    "tuning_df.to_csv(summary_type + '_hyperparams_start_frame_' + str(start_frame) + '.csv')"
   ]
  },
  {
   "cell_type": "code",
   "execution_count": null,
   "metadata": {},
   "outputs": [],
   "source": []
  }
 ],
 "metadata": {
  "kernelspec": {
   "display_name": ".venv",
   "language": "python",
   "name": "python3"
  },
  "language_info": {
   "codemirror_mode": {
    "name": "ipython",
    "version": 3
   },
   "file_extension": ".py",
   "mimetype": "text/x-python",
   "name": "python",
   "nbconvert_exporter": "python",
   "pygments_lexer": "ipython3",
   "version": "3.13.2"
  }
 },
 "nbformat": 4,
 "nbformat_minor": 2
}
