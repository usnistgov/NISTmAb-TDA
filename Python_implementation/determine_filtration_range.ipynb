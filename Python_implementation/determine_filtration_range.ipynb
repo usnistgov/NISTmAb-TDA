{
 "cells": [
  {
   "cell_type": "code",
   "execution_count": 1,
   "metadata": {},
   "outputs": [],
   "source": [
    "# Code by Melinda Kleczynski \n",
    "# Data from Christina Bergonzo \n",
    "\n",
    "# Finalized February 27, 2025 \n",
    "\n",
    "# Determine when we can end the filtration / which rows to include in the GCCD matrices "
   ]
  },
  {
   "cell_type": "code",
   "execution_count": 2,
   "metadata": {},
   "outputs": [],
   "source": [
    "# data processing \n",
    "import numpy as np \n",
    "import pandas as pd \n",
    "import random\n",
    "\n",
    "# TDA\n",
    "import oat_python as oat"
   ]
  },
  {
   "cell_type": "code",
   "execution_count": 3,
   "metadata": {},
   "outputs": [],
   "source": [
    "datasets = ['Fc_glycans', 'Fc_noglycans'] \n",
    "trajectories = [0, 1, 2, 3]\n",
    "frames = [i for i in range(200, 1000)]\n",
    "\n",
    "all_choices = [[d, t, f] for d in datasets for t in trajectories for f in frames]\n",
    "\n",
    "# random subset of datasets\n",
    "k = 1000\n",
    "random.seed(0)\n",
    "subsamples = random.sample(all_choices, k)\n",
    "\n",
    "min_births = np.zeros(k)\n",
    "max_deaths = np.zeros(k)\n",
    "\n",
    "for i in range(k):\n",
    "\n",
    "    dataset, trajectory, frame = subsamples[i]\n",
    "\n",
    "    frame_data = pd.read_csv('formatted_data\\\\' + dataset + '\\\\traj' + str(trajectory) + '\\\\' + \n",
    "                            dataset + '_traj' + str(trajectory) + '_frame' + str(frame) + '.csv') \n",
    "    atom_coords = np.array(frame_data[['x', 'y', 'z']])\n",
    "\n",
    "    # perform TDA \n",
    "    maxrad = oat.dissimilarity.enclosing_from_cloud(atom_coords) + 0.001 \n",
    "    dissimilairty_matrix = oat.dissimilarity.matrix_from_cloud(cloud = atom_coords, dissimilarity_max = maxrad)\n",
    "    boundary = oat.rust.FactoredBoundaryMatrixVr(dissimilarity_matrix = dissimilairty_matrix, homology_dimension_max = 1)\n",
    "    ph = boundary.homology(return_cycle_representatives = False, return_bounding_chains = False)\n",
    "    ph1 = ph[ph.dimension == 1]\n",
    "    min_births[i] = np.min(ph1.birth)\n",
    "    max_deaths[i] = np.max(ph1.death) "
   ]
  },
  {
   "cell_type": "code",
   "execution_count": 4,
   "metadata": {},
   "outputs": [
    {
     "name": "stdout",
     "output_type": "stream",
     "text": [
      "smallest birth 3.87\n",
      "suggested smallest GCCD spatial distance 1.0\n",
      "largest death 27.5\n",
      "suggested largest GCCD spatial distance 30.0\n"
     ]
    }
   ],
   "source": [
    "print('smallest birth %.2f' %np.min(min_births))\n",
    "print('suggested smallest GCCD spatial distance', np.floor(np.min(min_births))-2)\n",
    "\n",
    "print('largest death %.1f' %np.max(max_deaths))\n",
    "print('suggested largest GCCD spatial distance', np.ceil(np.max(max_deaths))+2)"
   ]
  },
  {
   "cell_type": "code",
   "execution_count": null,
   "metadata": {},
   "outputs": [],
   "source": []
  }
 ],
 "metadata": {
  "kernelspec": {
   "display_name": ".venv",
   "language": "python",
   "name": "python3"
  },
  "language_info": {
   "codemirror_mode": {
    "name": "ipython",
    "version": 3
   },
   "file_extension": ".py",
   "mimetype": "text/x-python",
   "name": "python",
   "nbconvert_exporter": "python",
   "pygments_lexer": "ipython3",
   "version": "3.13.2"
  }
 },
 "nbformat": 4,
 "nbformat_minor": 2
}
