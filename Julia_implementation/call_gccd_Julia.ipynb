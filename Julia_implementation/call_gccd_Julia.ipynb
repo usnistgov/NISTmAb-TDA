{
 "cells": [
  {
   "cell_type": "code",
   "execution_count": null,
   "metadata": {},
   "outputs": [],
   "source": [
    "# Code by Melinda Kleczynski \n",
    "# Data from Christina Bergonzo \n",
    "\n",
    "# Finalized March 5, 2025\n",
    "\n",
    "# Read formatted data (csv files with 3d spatial coordinates, chain labels, and residue numbering of atoms)\n",
    "# Save gccd matrices to csv files \n",
    "# Run one trajectory at a time "
   ]
  },
  {
   "cell_type": "code",
   "execution_count": null,
   "metadata": {},
   "outputs": [],
   "source": [
    "using CSV \n",
    "using DataFrames \n",
    "\n",
    "include(\"gccd_Julia_functions.jl\")"
   ]
  },
  {
   "cell_type": "code",
   "execution_count": null,
   "metadata": {},
   "outputs": [],
   "source": [
    "# parameter selection \n",
    "\n",
    "first_eps = 1 \n",
    "last_eps = 30 \n",
    "epsilons = [eps for eps in range(first_eps, last_eps, 1+10*(last_eps-first_eps))]\n",
    "\n",
    "sigma_exponents = [s for s in 1:6]\n",
    "sigmas = [(1/2)^s_exp for s_exp in sigma_exponents];"
   ]
  },
  {
   "cell_type": "code",
   "execution_count": null,
   "metadata": {},
   "outputs": [],
   "source": [
    "dataset_name = \"Fc_glycans\"  # \"Fc_glycans\" or \"Fc_noglycans\"\n",
    "trajectory_num = 0  # 0, 1, 2, or 3 \n",
    "\n",
    "for frame_num in [200, 201, 202]  # 200 ≤ frame_num < 1000  \n",
    "\n",
    "    data_fpath = \"formatted_data\\\\\" * dataset_name * \"\\\\traj\" * string(trajectory_num) * \"\\\\\" * dataset_name * \"_traj\" * string(trajectory_num) * \"_frame\" * string(frame_num) * \".csv\"\n",
    "    gccds = make_gccd_Julia(data_fpath, epsilons, sigmas)\n",
    "\n",
    "    # save to csv files \n",
    "    gccd_folder = \"gccds_Julia\\\\\" * dataset_name * \"\\\\traj\" * string(trajectory_num) * \"\\\\\"\n",
    "    for s in 1:length(sigmas)\n",
    "        gccd_df = DataFrame(round.(gccds[s], digits = 10))\n",
    "        gccd_fpath = gccd_folder * dataset_name * \"_traj\" * string(trajectory_num) * \"_frame\" * string(frame_num) * \"_sigmaexp\" * string(sigma_exponents[s]) * \"_gccd_Julia.csv\"\n",
    "        CSV.write(gccd_fpath, gccd_df)\n",
    "    end \n",
    "\n",
    "end "
   ]
  }
 ],
 "metadata": {
  "kernelspec": {
   "display_name": "Julia 1.8.5",
   "language": "julia",
   "name": "julia-1.8"
  },
  "language_info": {
   "file_extension": ".jl",
   "mimetype": "application/julia",
   "name": "julia",
   "version": "1.8.5"
  }
 },
 "nbformat": 4,
 "nbformat_minor": 2
}
