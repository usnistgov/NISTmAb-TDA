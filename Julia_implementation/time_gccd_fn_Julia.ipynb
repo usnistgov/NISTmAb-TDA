{
 "cells": [
  {
   "cell_type": "code",
   "execution_count": null,
   "metadata": {},
   "outputs": [],
   "source": [
    "# Code by Melinda Kleczynski \n",
    "# Data from Christina Bergonzo \n",
    "\n",
    "# Finalized March 11, 2025\n",
    "\n",
    "# Time GCCD function "
   ]
  },
  {
   "cell_type": "code",
   "execution_count": null,
   "metadata": {},
   "outputs": [],
   "source": [
    "using CSV \n",
    "using DataFrames \n",
    "\n",
    "include(\"gccd_Julia_functions.jl\")"
   ]
  },
  {
   "cell_type": "code",
   "execution_count": null,
   "metadata": {},
   "outputs": [],
   "source": [
    "# parameter selection \n",
    "\n",
    "first_eps = 1 \n",
    "last_eps = 30 \n",
    "epsilons = [eps for eps in range(first_eps, last_eps, 1+10*(last_eps-first_eps))]\n",
    "\n",
    "sigma_exponents = [s for s in 1:6]\n",
    "sigmas = [(1/2)^s_exp for s_exp in sigma_exponents];"
   ]
  },
  {
   "cell_type": "code",
   "execution_count": null,
   "metadata": {},
   "outputs": [],
   "source": [
    "# use the same frames that we did to get the Python run times \n",
    "python_timing_df = CSV.read(\"python_timing.csv\", DataFrame)\n",
    "dataset_names = python_timing_df.Dataset\n",
    "trajectory_nums = python_timing_df.Trajectory\n",
    "frame_nums = python_timing_df.Frame;"
   ]
  },
  {
   "cell_type": "code",
   "execution_count": null,
   "metadata": {},
   "outputs": [],
   "source": [
    "# run once before starting timing \n",
    "data_fpath = \"formatted_data\\\\\" * dataset_names[1] * \"\\\\traj\" * string(trajectory_nums[1]) * \"\\\\\" * dataset_names[1] * \"_traj\" * string(trajectory_nums[1]) * \"_frame\" * string(frame_nums[1]) * \".csv\"\n",
    "make_gccd_Julia(data_fpath, epsilons, sigmas);"
   ]
  },
  {
   "cell_type": "code",
   "execution_count": null,
   "metadata": {},
   "outputs": [],
   "source": [
    "run_times = zeros(length(dataset_names), 7)\n",
    "\n",
    "for j in 1:7\n",
    "    for i in 1:length(dataset_names)\n",
    "        data_fpath = \"formatted_data\\\\\" * dataset_names[i] * \"\\\\traj\" * string(trajectory_nums[i]) * \"\\\\\" * dataset_names[i] * \"_traj\" * string(trajectory_nums[i]) * \"_frame\" * string(frame_nums[i]) * \".csv\"\n",
    "        run_times[i, j] = @elapsed make_gccd_Julia(data_fpath, epsilons, sigmas)\n",
    "    end \n",
    "end "
   ]
  },
  {
   "cell_type": "code",
   "execution_count": null,
   "metadata": {},
   "outputs": [],
   "source": [
    "julia_timing_df = hcat(python_timing_df[:, [\"Dataset\", \"Trajectory\", \"Frame\"]], DataFrame(run_times, [\"Run \" * string(i) for i in 0:6]))\n",
    "CSV.write(\"julia_timing.csv\", julia_timing_df)"
   ]
  },
  {
   "cell_type": "code",
   "execution_count": null,
   "metadata": {},
   "outputs": [],
   "source": []
  }
 ],
 "metadata": {
  "kernelspec": {
   "display_name": "Julia 1.8.5",
   "language": "julia",
   "name": "julia-1.8"
  },
  "language_info": {
   "file_extension": ".jl",
   "mimetype": "application/julia",
   "name": "julia",
   "version": "1.8.5"
  }
 },
 "nbformat": 4,
 "nbformat_minor": 2
}
